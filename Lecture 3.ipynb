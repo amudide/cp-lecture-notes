{
 "cells": [
  {
   "cell_type": "code",
   "execution_count": 3,
   "metadata": {},
   "outputs": [
    {
     "name": "stdout",
     "output_type": "stream",
     "text": [
      "[2, 3, 5, -10, 19, 20, 12]\n",
      "[2, 3, 5, -10, 19, 20, 12, 99]\n",
      "8\n"
     ]
    }
   ],
   "source": [
    "grades = [2, 3, 5, -10, 19, 20, 12]\n",
    "\n",
    "print(grades)\n",
    "\n",
    "grades.append(99)\n",
    "print(grades)\n",
    "\n",
    "print(len(grades))"
   ]
  },
  {
   "cell_type": "code",
   "execution_count": 4,
   "metadata": {},
   "outputs": [
    {
     "name": "stdout",
     "output_type": "stream",
     "text": [
      "99\n"
     ]
    }
   ],
   "source": [
    "max_grade = -1000\n",
    "\n",
    "for grade in grades:\n",
    "    max_grade = max(max_grade, grade)\n",
    "\n",
    "print(max_grade)"
   ]
  },
  {
   "cell_type": "code",
   "execution_count": 8,
   "metadata": {},
   "outputs": [
    {
     "name": "stdout",
     "output_type": "stream",
     "text": [
      "deque(['Josh', 'Andy', 'Jess'])\n"
     ]
    }
   ],
   "source": [
    "from collections import deque # importing in some other person's code for our use\n",
    "\n",
    "customers = deque()\n",
    "\n",
    "customers.append(\"Josh\")\n",
    "customers.append(\"Andy\")\n",
    "customers.append(\"Jess\")\n",
    "\n",
    "print(customers)"
   ]
  },
  {
   "cell_type": "code",
   "execution_count": 12,
   "metadata": {},
   "outputs": [
    {
     "name": "stdout",
     "output_type": "stream",
     "text": [
      "deque([])\n"
     ]
    }
   ],
   "source": [
    "removedPerson = customers.popleft()\n",
    "print(customers)\n"
   ]
  },
  {
   "cell_type": "code",
   "execution_count": 13,
   "metadata": {},
   "outputs": [
    {
     "name": "stdout",
     "output_type": "stream",
     "text": [
      "{'Lara': 11, 'Andy': 25, 'Harry': 20}\n"
     ]
    }
   ],
   "source": [
    "money = {\"Lara\" : 11, \"Andy\" : 25, \"Harry\" : 20}\n",
    "print(money)"
   ]
  },
  {
   "cell_type": "code",
   "execution_count": 15,
   "metadata": {},
   "outputs": [
    {
     "name": "stdout",
     "output_type": "stream",
     "text": [
      "20\n",
      "{'Lara': 400, 'Andy': 25, 'Harry': 20}\n"
     ]
    }
   ],
   "source": [
    "print(money[\"Harry\"])\n",
    "\n",
    "money[\"Lara\"] = 400\n",
    "\n",
    "print(money)"
   ]
  },
  {
   "cell_type": "code",
   "execution_count": 18,
   "metadata": {},
   "outputs": [],
   "source": [
    "if \"Lara\" not in money:\n",
    "    print(\"No\")"
   ]
  },
  {
   "cell_type": "code",
   "execution_count": 21,
   "metadata": {},
   "outputs": [
    {
     "name": "stdout",
     "output_type": "stream",
     "text": [
      "No, 6 is not in the set\n",
      "{2: True, 3: True, 7: True, 8: True, 25: True}\n",
      "Yes, 25 is in the set\n"
     ]
    }
   ],
   "source": [
    "numbers = {2 : True, 3 : True, 7 : True, 8 : True} # 2, 3, 7, 8\n",
    "\n",
    "if 6 in numbers:\n",
    "    print(\"Yes, 6 is in the set\")\n",
    "else:\n",
    "    print(\"No, 6 is not in the set\")\n",
    "    \n",
    "\n",
    "numbers[25] = True\n",
    "\n",
    "print(numbers)\n",
    "\n",
    "\n",
    "if 25 in numbers:\n",
    "    print(\"Yes, 25 is in the set\")\n",
    "else:\n",
    "    print(\"No, 25 is not in the set\")"
   ]
  },
  {
   "cell_type": "code",
   "execution_count": 24,
   "metadata": {},
   "outputs": [
    {
     "name": "stdout",
     "output_type": "stream",
     "text": [
      "{2: True, 3: True, 7: True, 25: True}\n",
      "{2: True, 3: True, 7: True, 25: True}\n"
     ]
    }
   ],
   "source": [
    "#numbers.pop(8)\n",
    "\n",
    "print(numbers)\n",
    "\n",
    "numbers[2] = True\n",
    "\n",
    "print(numbers)"
   ]
  },
  {
   "cell_type": "code",
   "execution_count": null,
   "metadata": {},
   "outputs": [],
   "source": []
  },
  {
   "cell_type": "code",
   "execution_count": null,
   "metadata": {},
   "outputs": [],
   "source": []
  },
  {
   "cell_type": "code",
   "execution_count": null,
   "metadata": {},
   "outputs": [],
   "source": []
  },
  {
   "cell_type": "code",
   "execution_count": null,
   "metadata": {},
   "outputs": [],
   "source": []
  },
  {
   "cell_type": "code",
   "execution_count": null,
   "metadata": {},
   "outputs": [],
   "source": []
  },
  {
   "cell_type": "code",
   "execution_count": null,
   "metadata": {},
   "outputs": [],
   "source": []
  },
  {
   "cell_type": "code",
   "execution_count": null,
   "metadata": {},
   "outputs": [],
   "source": []
  },
  {
   "cell_type": "code",
   "execution_count": null,
   "metadata": {},
   "outputs": [],
   "source": []
  },
  {
   "cell_type": "code",
   "execution_count": 37,
   "metadata": {},
   "outputs": [
    {
     "name": "stdout",
     "output_type": "stream",
     "text": [
      "[93, 89, 77, 100, 68, 42]\n",
      "[93, 89, 77, 100, 68, 42, 64]\n",
      "7\n",
      "Average: 76\n"
     ]
    }
   ],
   "source": [
    "grades = [93, 89, 77, 100, 68, 42]\n",
    "print(grades)\n",
    "grades.append(64)\n",
    "print(grades)\n",
    "print(len(grades))\n",
    "\n",
    "sum = 0\n",
    "for grade in grades:\n",
    "    sum += grade\n",
    "print(\"Average:\", sum // len(grades))"
   ]
  },
  {
   "cell_type": "code",
   "execution_count": 38,
   "metadata": {},
   "outputs": [
    {
     "name": "stdout",
     "output_type": "stream",
     "text": [
      "deque(['Ana', 'Juan', 'Jess', 'Angela'])\n",
      "deque(['Juan', 'Jess', 'Angela'])\n"
     ]
    }
   ],
   "source": [
    "from collections import deque\n",
    "\n",
    "customers = deque()\n",
    "customers.append(\"Ana\")\n",
    "customers.append(\"Juan\")\n",
    "customers.append(\"Jess\")\n",
    "customers.append(\"Angela\")\n",
    "\n",
    "print(customers)\n",
    "\n",
    "customers.popleft()\n",
    "print(customers)"
   ]
  },
  {
   "cell_type": "code",
   "execution_count": 42,
   "metadata": {},
   "outputs": [
    {
     "data": {
      "text/plain": [
       "{'Juan': 14, 'Andy': 6, 'Andrew': 1}"
      ]
     },
     "execution_count": 42,
     "metadata": {},
     "output_type": "execute_result"
    }
   ],
   "source": [
    "ages = {\"Juan\": 14, \"Andy\" : 6, \"Andrew\" : 1}\n",
    "ages"
   ]
  },
  {
   "cell_type": "code",
   "execution_count": 43,
   "metadata": {},
   "outputs": [
    {
     "name": "stdout",
     "output_type": "stream",
     "text": [
      "14\n",
      "10\n",
      "2\n",
      "Drew is not in hash table\n"
     ]
    }
   ],
   "source": [
    "print(ages[\"Juan\"])\n",
    "\n",
    "ages[\"Jess\"] = 10\n",
    "print(ages[\"Jess\"])\n",
    "\n",
    "ages[\"Andrew\"] = 2\n",
    "print(ages[\"Andrew\"])\n",
    "\n",
    "if \"Drew\" in ages:\n",
    "    print(\"Drew is\", ages[\"Drew\"], \"years old.\")\n",
    "else:\n",
    "    print(\"Drew is not in hash table\")"
   ]
  },
  {
   "cell_type": "code",
   "execution_count": 14,
   "metadata": {},
   "outputs": [
    {
     "name": "stdout",
     "output_type": "stream",
     "text": [
      "2\n",
      "3\n",
      "8\n",
      "\n",
      "2\n",
      "8\n"
     ]
    }
   ],
   "source": [
    "nums = {2 : True, 3 : True, 8 : True}\n",
    "\n",
    "for i in range(10):\n",
    "    if i in nums:\n",
    "        print(i)\n",
    "        \n",
    "print()\n",
    "        \n",
    "nums.pop(3)\n",
    "for i in range(10):\n",
    "    if i in nums:\n",
    "        print(i)"
   ]
  },
  {
   "cell_type": "code",
   "execution_count": 20,
   "metadata": {},
   "outputs": [
    {
     "name": "stdout",
     "output_type": "stream",
     "text": [
      "{11, 3, 4, 12}\n",
      "{13, 122, 23}\n"
     ]
    }
   ],
   "source": [
    "a = [3, 4, 12, 11, 12]\n",
    "s = set(a)\n",
    "print(s)\n",
    "\n",
    "s1 = {2, 13, 122}\n",
    "s1.add(23)\n",
    "s1.remove(2)\n",
    "print(s1)"
   ]
  },
  {
   "cell_type": "code",
   "execution_count": 22,
   "metadata": {},
   "outputs": [
    {
     "name": "stdout",
     "output_type": "stream",
     "text": [
      "13\n",
      "122\n",
      "23\n"
     ]
    }
   ],
   "source": [
    "for x in s1:\n",
    "    print(x)"
   ]
  },
  {
   "cell_type": "code",
   "execution_count": 27,
   "metadata": {},
   "outputs": [
    {
     "name": "stdout",
     "output_type": "stream",
     "text": [
      "John 12\n",
      "Harry 18\n",
      "Alex 1\n"
     ]
    }
   ],
   "source": [
    "ages = {\"John\": 12, \"Harry\": 18, \"Alex\": 1}\n",
    "\n",
    "for p in ages:\n",
    "    print(p, ages[p])"
   ]
  },
  {
   "cell_type": "code",
   "execution_count": 34,
   "metadata": {},
   "outputs": [],
   "source": [
    "from queue import PriorityQueue\n",
    "\n",
    "\n",
    "q = PriorityQueue()\n",
    "\n",
    "q.put(7)\n",
    "q.put(13)\n",
    "q.put(10)\n",
    "q.put(200)"
   ]
  },
  {
   "cell_type": "code",
   "execution_count": null,
   "metadata": {},
   "outputs": [],
   "source": []
  },
  {
   "cell_type": "code",
   "execution_count": 44,
   "metadata": {},
   "outputs": [
    {
     "name": "stdout",
     "output_type": "stream",
     "text": [
      "7\n",
      "10\n",
      "13\n",
      "200\n"
     ]
    }
   ],
   "source": [
    "while not q.empty():\n",
    "    smallest = q.get()\n",
    "    print(smallest)"
   ]
  },
  {
   "cell_type": "code",
   "execution_count": 25,
   "metadata": {},
   "outputs": [
    {
     "name": "stdout",
     "output_type": "stream",
     "text": [
      "0\n",
      "1\n",
      "2\n",
      "3\n",
      "4\n",
      "5\n",
      "6\n",
      "7\n",
      "8\n",
      "9\n"
     ]
    }
   ],
   "source": [
    "\n",
    "\n",
    "\n",
    "\n",
    "\n",
    "for i in range(10):\n",
    "    print(i)"
   ]
  },
  {
   "cell_type": "code",
   "execution_count": 27,
   "metadata": {},
   "outputs": [
    {
     "name": "stdout",
     "output_type": "stream",
     "text": [
      "2\n",
      "2\n"
     ]
    }
   ],
   "source": [
    "nums = [2, 3, 4, 2]\n",
    "\n",
    "m = len(nums)\n",
    "        \n",
    "for i in range(m):  # i : 0 to m - 1\n",
    "    for j in range(m):  # j : 0 to m - 1\n",
    "        if i == j:\n",
    "            continue\n",
    "                \n",
    "    if nums[i] == nums[j]:\n",
    "        print(nums[i])\n",
    "                "
   ]
  },
  {
   "cell_type": "code",
   "execution_count": null,
   "metadata": {},
   "outputs": [],
   "source": []
  },
  {
   "cell_type": "code",
   "execution_count": null,
   "metadata": {},
   "outputs": [],
   "source": []
  },
  {
   "cell_type": "code",
   "execution_count": null,
   "metadata": {},
   "outputs": [],
   "source": [
    "numbers = [4, 1, 10, 123]"
   ]
  }
 ],
 "metadata": {
  "kernelspec": {
   "display_name": "Python 3",
   "language": "python",
   "name": "python3"
  },
  "language_info": {
   "codemirror_mode": {
    "name": "ipython",
    "version": 3
   },
   "file_extension": ".py",
   "mimetype": "text/x-python",
   "name": "python",
   "nbconvert_exporter": "python",
   "pygments_lexer": "ipython3",
   "version": "3.7.3"
  }
 },
 "nbformat": 4,
 "nbformat_minor": 2
}
