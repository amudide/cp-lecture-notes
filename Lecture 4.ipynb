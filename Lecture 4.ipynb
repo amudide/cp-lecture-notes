{
 "cells": [
  {
   "cell_type": "code",
   "execution_count": 1,
   "metadata": {},
   "outputs": [
    {
     "name": "stdout",
     "output_type": "stream",
     "text": [
      "[8, 12, 5, 10, 9, 21, 33]\n",
      "7\n"
     ]
    }
   ],
   "source": [
    "salary = [8, 12, 5, 10, 9, 21, 33]\n",
    "\n",
    "N = len(salary)\n",
    "print(salary)\n",
    "print(N)\n",
    "\n",
    "queries = [[2, 4], [3, 7], [2, 6]]"
   ]
  },
  {
   "cell_type": "code",
   "execution_count": 3,
   "metadata": {},
   "outputs": [
    {
     "name": "stdout",
     "output_type": "stream",
     "text": [
      "[0, 0, 0, 0, 0, 0, 0, 0]\n"
     ]
    }
   ],
   "source": [
    "prefix_sums = [0] * (N + 1)\n",
    "print(prefix_sums)"
   ]
  },
  {
   "cell_type": "code",
   "execution_count": 6,
   "metadata": {},
   "outputs": [
    {
     "name": "stdout",
     "output_type": "stream",
     "text": [
      "[0, 8, 20, 25, 35, 44, 65, 98]\n"
     ]
    }
   ],
   "source": [
    "for i in range(1, N + 1):\n",
    "    prefix_sums[i] = prefix_sums[i - 1] + salary[i - 1]\n",
    "\n",
    "print(prefix_sums)"
   ]
  },
  {
   "cell_type": "code",
   "execution_count": 7,
   "metadata": {},
   "outputs": [
    {
     "name": "stdout",
     "output_type": "stream",
     "text": [
      "27\n",
      "78\n",
      "57\n"
     ]
    }
   ],
   "source": [
    "for query in queries:\n",
    "    a = query[0]\n",
    "    b = query[1]\n",
    "    \n",
    "    print(prefix_sums[b] - prefix_sums[a - 1])"
   ]
  },
  {
   "cell_type": "code",
   "execution_count": null,
   "metadata": {},
   "outputs": [],
   "source": []
  },
  {
   "cell_type": "code",
   "execution_count": null,
   "metadata": {},
   "outputs": [],
   "source": []
  },
  {
   "cell_type": "code",
   "execution_count": null,
   "metadata": {},
   "outputs": [],
   "source": []
  },
  {
   "cell_type": "code",
   "execution_count": null,
   "metadata": {},
   "outputs": [],
   "source": []
  },
  {
   "cell_type": "code",
   "execution_count": null,
   "metadata": {},
   "outputs": [],
   "source": []
  },
  {
   "cell_type": "code",
   "execution_count": null,
   "metadata": {},
   "outputs": [],
   "source": []
  },
  {
   "cell_type": "code",
   "execution_count": null,
   "metadata": {},
   "outputs": [],
   "source": []
  },
  {
   "cell_type": "code",
   "execution_count": null,
   "metadata": {},
   "outputs": [],
   "source": []
  },
  {
   "cell_type": "code",
   "execution_count": null,
   "metadata": {},
   "outputs": [],
   "source": []
  },
  {
   "cell_type": "code",
   "execution_count": null,
   "metadata": {},
   "outputs": [],
   "source": []
  },
  {
   "cell_type": "code",
   "execution_count": null,
   "metadata": {},
   "outputs": [],
   "source": []
  },
  {
   "cell_type": "code",
   "execution_count": null,
   "metadata": {},
   "outputs": [],
   "source": []
  },
  {
   "cell_type": "code",
   "execution_count": null,
   "metadata": {},
   "outputs": [],
   "source": []
  },
  {
   "cell_type": "code",
   "execution_count": null,
   "metadata": {},
   "outputs": [],
   "source": []
  },
  {
   "cell_type": "code",
   "execution_count": null,
   "metadata": {},
   "outputs": [],
   "source": []
  },
  {
   "cell_type": "code",
   "execution_count": 4,
   "metadata": {},
   "outputs": [
    {
     "name": "stdout",
     "output_type": "stream",
     "text": [
      "[8, 12, 5, 10, 9, 21, 33]\n",
      "7\n"
     ]
    }
   ],
   "source": [
    "# Salary Question\n",
    "\n",
    "salary = [8, 12, 5, 10, 9, 21, 33]\n",
    "\n",
    "N = len(salary)\n",
    "print(salary)\n",
    "print(N)\n",
    "\n",
    "queries = [[2, 4], [3, 7], [2, 6]]"
   ]
  },
  {
   "cell_type": "code",
   "execution_count": 6,
   "metadata": {},
   "outputs": [
    {
     "name": "stdout",
     "output_type": "stream",
     "text": [
      "[0, 0, 0, 0, 0, 0, 0, 0]\n"
     ]
    }
   ],
   "source": [
    "prefix_sums = [0] * (N + 1)\n",
    "print(prefix_sums)"
   ]
  },
  {
   "cell_type": "code",
   "execution_count": 8,
   "metadata": {},
   "outputs": [
    {
     "name": "stdout",
     "output_type": "stream",
     "text": [
      "[0, 8, 20, 25, 35, 44, 65, 98]\n"
     ]
    }
   ],
   "source": [
    "for i in range(1, N + 1):\n",
    "    prefix_sums[i] = prefix_sums[i - 1] + salary[i - 1]\n",
    "    \n",
    "print(prefix_sums)"
   ]
  },
  {
   "cell_type": "code",
   "execution_count": 10,
   "metadata": {},
   "outputs": [
    {
     "name": "stdout",
     "output_type": "stream",
     "text": [
      "27\n",
      "78\n",
      "57\n"
     ]
    }
   ],
   "source": [
    "for i in range(len(queries)):\n",
    "    a = queries[i][0]\n",
    "    b = queries[i][1]\n",
    "    answer = prefix_sums[b] - prefix_sums[a - 1]\n",
    "    print(answer)"
   ]
  },
  {
   "cell_type": "code",
   "execution_count": null,
   "metadata": {},
   "outputs": [],
   "source": []
  },
  {
   "cell_type": "code",
   "execution_count": 12,
   "metadata": {},
   "outputs": [],
   "source": [
    "# Maximum Subarray Question\n",
    "\n",
    "nums = [-2, 1, -3, 4, -1, 2, 1, -5, 4]\n",
    "N = len(nums)"
   ]
  },
  {
   "cell_type": "code",
   "execution_count": 13,
   "metadata": {},
   "outputs": [
    {
     "name": "stdout",
     "output_type": "stream",
     "text": [
      "[0, 0, 0, 0, 0, 0, 0, 0, 0, 0]\n",
      "[0, -2, -1, -4, 0, -1, 1, 2, -3, 1]\n"
     ]
    }
   ],
   "source": [
    "prefix_sums = [0] * (N + 1)\n",
    "print(prefix_sums)\n",
    "\n",
    "for i in range(1, N + 1):\n",
    "    prefix_sums[i] = prefix_sums[i - 1] + nums[i - 1]\n",
    "    \n",
    "print(prefix_sums)"
   ]
  },
  {
   "cell_type": "code",
   "execution_count": 15,
   "metadata": {},
   "outputs": [
    {
     "name": "stdout",
     "output_type": "stream",
     "text": [
      "6\n"
     ]
    }
   ],
   "source": [
    "cur_min = 0\n",
    "cur_ans = -1000\n",
    "\n",
    "for i in range(1, N + 1):\n",
    "    cur_ans = max(cur_ans, prefix_sums[i] - cur_min)\n",
    "    cur_min = min(cur_min, prefix_sums[i])\n",
    "    \n",
    "print(cur_ans)"
   ]
  },
  {
   "cell_type": "code",
   "execution_count": null,
   "metadata": {},
   "outputs": [],
   "source": []
  },
  {
   "cell_type": "code",
   "execution_count": 18,
   "metadata": {},
   "outputs": [
    {
     "name": "stdout",
     "output_type": "stream",
     "text": [
      "[1, 1, 1, 1, 1, 1, 1, 1, 1, 1]\n",
      "[0, 0, 1, 1, 0, 1, 1, 1, 0, 0]\n"
     ]
    }
   ],
   "source": [
    "# USACO Silver Question\n",
    "\n",
    "N = 10\n",
    "K = 6\n",
    "B = 5\n",
    "\n",
    "broken = [2, 10, 1, 5, 9]\n",
    "\n",
    "signals = [1] * (N + 1)\n",
    "print(signals[1 : 11])\n",
    "\n",
    "for item in broken:\n",
    "    signals[item] = 0\n",
    "    \n",
    "print(signals[1 : 11])"
   ]
  },
  {
   "cell_type": "code",
   "execution_count": 37,
   "metadata": {},
   "outputs": [],
   "source": [
    "cur_window = sum(signals[1 : K + 1])\n",
    "max_window = cur_window"
   ]
  },
  {
   "cell_type": "code",
   "execution_count": 41,
   "metadata": {},
   "outputs": [
    {
     "name": "stdout",
     "output_type": "stream",
     "text": [
      "3\n",
      "4\n",
      "5\n",
      "4\n",
      "3\n",
      "The answer is:  1\n"
     ]
    }
   ],
   "source": [
    "print(cur_window)\n",
    "\n",
    "for start in range(2, N - K + 2):\n",
    "    cur_window = cur_window - signals[start - 1]\n",
    "    cur_window = cur_window + signals[start + K - 1]\n",
    "    \n",
    "    print(cur_window)\n",
    "    \n",
    "    max_window = max(max_window, cur_window)\n",
    "\n",
    "print(\"The answer is: \", K - max_window)"
   ]
  },
  {
   "cell_type": "code",
   "execution_count": null,
   "metadata": {},
   "outputs": [],
   "source": []
  },
  {
   "cell_type": "code",
   "execution_count": 42,
   "metadata": {},
   "outputs": [
    {
     "name": "stdout",
     "output_type": "stream",
     "text": [
      "7\n"
     ]
    }
   ],
   "source": [
    "# Two Pointers Question\n",
    "\n",
    "word = \"abcadae\"\n",
    "N = len(word)"
   ]
  },
  {
   "cell_type": "code",
   "execution_count": 60,
   "metadata": {},
   "outputs": [
    {
     "name": "stdout",
     "output_type": "stream",
     "text": [
      "4\n"
     ]
    }
   ],
   "source": [
    "right = 0\n",
    "cur_ans = 0\n",
    "\n",
    "used_letters = {word[0] : 1}\n",
    "\n",
    "for left in range(N):\n",
    "    print(\"Left pointer:\",left)\n",
    "    while right < N - 1:\n",
    "        if word[right + 1] not in used_letters or used_letters[word[right + 1]] == 0:\n",
    "            used_letters[word[right + 1]] = 1\n",
    "            right = right + 1\n",
    "        else:\n",
    "            break\n",
    "    \n",
    "    cur_ans = max(cur_ans, right - left + 1)\n",
    "    \n",
    "    used_letters[word[left]] -= 1\n",
    "    \n",
    "print(cur_ans)\n",
    "    "
   ]
  },
  {
   "cell_type": "code",
   "execution_count": null,
   "metadata": {},
   "outputs": [],
   "source": []
  }
 ],
 "metadata": {
  "kernelspec": {
   "display_name": "Python 3",
   "language": "python",
   "name": "python3"
  },
  "language_info": {
   "codemirror_mode": {
    "name": "ipython",
    "version": 3
   },
   "file_extension": ".py",
   "mimetype": "text/x-python",
   "name": "python",
   "nbconvert_exporter": "python",
   "pygments_lexer": "ipython3",
   "version": "3.7.3"
  }
 },
 "nbformat": 4,
 "nbformat_minor": 2
}
