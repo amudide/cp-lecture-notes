{
 "cells": [
  {
   "cell_type": "code",
   "execution_count": null,
   "metadata": {},
   "outputs": [],
   "source": [
    "adjacency = [[], [2, 5], [1, 3, 5], [2, 4], [3, 5, 6], [1, 2, 4], [4]]\n",
    "\n",
    "visited = [False] * 7\n",
    "\n",
    "distances = [0] * 7\n",
    "\n",
    "print(visited)\n",
    "print(adjacency[1])\n",
    "print(adjacency[2])"
   ]
  },
  {
   "cell_type": "code",
   "execution_count": null,
   "metadata": {},
   "outputs": [],
   "source": [
    "from collections import deque # importing in some other person's code for our use\n",
    "\n",
    "q = deque() # making a queue\n",
    "\n",
    "visited[1] = True\n",
    "q.append(1)\n",
    "\n",
    "while (len(q) > 0):\n",
    "    node = q.popleft()\n",
    "    print(node)\n",
    "    print(\"Shortest distance to\", node, \":\", distances[node])\n",
    "    \n",
    "    for neighbor in adjacency[node]:\n",
    "        if not visited[neighbor]:\n",
    "            visited[neighbor] = True\n",
    "            distances[neighbor] = distances[node] + 1\n",
    "            q.append(neighbor)"
   ]
  },
  {
   "cell_type": "code",
   "execution_count": null,
   "metadata": {},
   "outputs": [],
   "source": []
  }
 ],
 "metadata": {
  "kernelspec": {
   "display_name": "Python 3",
   "language": "python",
   "name": "python3"
  },
  "language_info": {
   "codemirror_mode": {
    "name": "ipython",
    "version": 3
   },
   "file_extension": ".py",
   "mimetype": "text/x-python",
   "name": "python",
   "nbconvert_exporter": "python",
   "pygments_lexer": "ipython3",
   "version": "3.7.3"
  }
 },
 "nbformat": 4,
 "nbformat_minor": 2
}
